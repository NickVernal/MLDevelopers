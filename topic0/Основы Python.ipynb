{
 "cells": [
  {
   "cell_type": "markdown",
   "metadata": {},
   "source": [
    "# Jupyter Notebook\n",
    "## куда это мы попали?\n",
    "Это редактор Jupyter Notebook\n",
    "Здесь можно выполнять команды языка Python. А так же некоторую магию, которая упрощает работу. Например, при помощи \n",
    "`!system` команд можно выполнять командной оболочке непосредственно в python среде.\n",
    "\n",
    "Основным рабочим элементом является ячейка/клетка(cell). В них вы можете писать код и сопровождающий текст к ним используя разметку Markdown.\n",
    "\n",
    "Например, ниже мы можем сложить 2 числа:"
   ]
  },
  {
   "cell_type": "code",
   "execution_count": 1,
   "metadata": {
    "collapsed": false
   },
   "outputs": [
    {
     "data": {
      "text/plain": [
       "3"
      ]
     },
     "execution_count": 1,
     "metadata": {},
     "output_type": "execute_result"
    }
   ],
   "source": [
    "1+2"
   ]
  },
  {
   "cell_type": "markdown",
   "metadata": {},
   "source": [
    "## Горячие клавиши\n",
    "Для того чтобы вызвать справку по горячим клавишам используйте комбинацию `\"Esc+h\"`\n",
    "- Используйте `Shift-Enter` для того, чтобы выполнить код написанный в ячейке.\n",
    "- После выполнения кода в ячейки, результаты будут отображены ниже, под ячейке и вы перейдёте к следующей ячейке.\n",
    "- Вы можете выполнять код написанный в клетке несколько раз.\n",
    "- Для создания новой ячейки над текущей используйте комбинацию `\"Esc+a\"`\n",
    "- Для создания новой ячейки под текущей используйте комбинацию `\"Esc+b\"`\n",
    "- Для удаления текущей ячейки используйте комбинацию `\"Esc+d+d\"`\n",
    "- Для редактирования выделите ячейку курсором и нажмите `\"Enter\"`\n",
    "- По умолчанию ячейка создаётся для написания в ней кода, для того, чтобы сконвертировать её в Markdown разметку нажмите `\"Esc+m\"`\n",
    "- Для сохранения текущего состояния нотбука нажмите `\"Cmd+s\"` (`\"Ctrl+s\"`)\n"
   ]
  },
  {
   "cell_type": "markdown",
   "metadata": {},
   "source": [
    "## Downloading notebook\n",
    "Для сохранения результатов используйте команды `\"File\"->\"Download as\"` и выберите формат `.ipynb` (notebook), `.py` (исполняемый файл). В случае если вы выбрали `.py` нотбук будет сконвертирован в исполняемый `.py` файл, который в дальнейшем можно встраивать в другие приложения."
   ]
  },
  {
   "cell_type": "markdown",
   "metadata": {},
   "source": [
    "# Основы Python"
   ]
  },
  {
   "cell_type": "markdown",
   "metadata": {},
   "source": [
    "## Оператор присваивания\n",
    "Используйте `=` для того, чтобы присвоить значение переменной"
   ]
  },
  {
   "cell_type": "code",
   "execution_count": 19,
   "metadata": {
    "collapsed": true
   },
   "outputs": [],
   "source": [
    "x = 42\n",
    "y = 3.18251825"
   ]
  },
  {
   "cell_type": "code",
   "execution_count": 20,
   "metadata": {
    "collapsed": false
   },
   "outputs": [
    {
     "data": {
      "text/plain": [
       "42"
      ]
     },
     "execution_count": 20,
     "metadata": {},
     "output_type": "execute_result"
    }
   ],
   "source": [
    "x"
   ]
  },
  {
   "cell_type": "code",
   "execution_count": 6,
   "metadata": {
    "collapsed": false
   },
   "outputs": [
    {
     "data": {
      "text/plain": [
       "3.18251825"
      ]
     },
     "execution_count": 6,
     "metadata": {},
     "output_type": "execute_result"
    }
   ],
   "source": [
    "y"
   ]
  },
  {
   "cell_type": "markdown",
   "metadata": {},
   "source": [
    "Python язык с динамической типизацией. Используйте `type()` для того, чтобы определить тип значения переменной."
   ]
  },
  {
   "cell_type": "code",
   "execution_count": 8,
   "metadata": {
    "collapsed": false
   },
   "outputs": [
    {
     "data": {
      "text/plain": [
       "int"
      ]
     },
     "execution_count": 8,
     "metadata": {},
     "output_type": "execute_result"
    }
   ],
   "source": [
    "type(x)"
   ]
  },
  {
   "cell_type": "code",
   "execution_count": 9,
   "metadata": {
    "collapsed": false
   },
   "outputs": [
    {
     "data": {
      "text/plain": [
       "float"
      ]
     },
     "execution_count": 9,
     "metadata": {},
     "output_type": "execute_result"
    }
   ],
   "source": [
    "type(y)"
   ]
  },
  {
   "cell_type": "code",
   "execution_count": 11,
   "metadata": {
    "collapsed": false
   },
   "outputs": [
    {
     "data": {
      "text/plain": [
       "45.18251825"
      ]
     },
     "execution_count": 11,
     "metadata": {},
     "output_type": "execute_result"
    }
   ],
   "source": [
    "x+y"
   ]
  },
  {
   "cell_type": "markdown",
   "metadata": {},
   "source": [
    "## Вывод результатов\n",
    "Используйте `print()`"
   ]
  },
  {
   "cell_type": "code",
   "execution_count": 15,
   "metadata": {
    "collapsed": false
   },
   "outputs": [
    {
     "name": "stdout",
     "output_type": "stream",
     "text": [
      "42\n",
      "42 3.18251825 <class 'int'> <class 'float'>\n"
     ]
    }
   ],
   "source": [
    "# <- используйте символ \"#\" для комментария\n",
    "# вывод одной переменной\n",
    "print(x)\n",
    "# вывод нескольких объектов через запятую\n",
    "print(x, y, type(x), type(y))"
   ]
  },
  {
   "cell_type": "code",
   "execution_count": 21,
   "metadata": {
    "collapsed": false
   },
   "outputs": [
    {
     "name": "stdout",
     "output_type": "stream",
     "text": [
      "<class 'int'>\n",
      "<class 'float'>\n"
     ]
    }
   ],
   "source": [
    "# Тип переменной можен меняться в процессе работы приложения\n",
    "print(type(x))\n",
    "x = 1.2\n",
    "print(type(x))"
   ]
  },
  {
   "cell_type": "markdown",
   "metadata": {},
   "source": [
    "# Особености Jupyter Notebook"
   ]
  },
  {
   "cell_type": "code",
   "execution_count": null,
   "metadata": {
    "collapsed": true
   },
   "outputs": [],
   "source": []
  },
  {
   "cell_type": "code",
   "execution_count": null,
   "metadata": {
    "collapsed": true
   },
   "outputs": [],
   "source": []
  },
  {
   "cell_type": "code",
   "execution_count": null,
   "metadata": {
    "collapsed": true
   },
   "outputs": [],
   "source": []
  },
  {
   "cell_type": "code",
   "execution_count": null,
   "metadata": {
    "collapsed": true
   },
   "outputs": [],
   "source": []
  }
 ],
 "metadata": {
  "kernelspec": {
   "display_name": "Python 3",
   "language": "python",
   "name": "python3"
  },
  "language_info": {
   "codemirror_mode": {
    "name": "ipython",
    "version": 3
   },
   "file_extension": ".py",
   "mimetype": "text/x-python",
   "name": "python",
   "nbconvert_exporter": "python",
   "pygments_lexer": "ipython3",
   "version": "3.5.2"
  }
 },
 "nbformat": 4,
 "nbformat_minor": 0
}
