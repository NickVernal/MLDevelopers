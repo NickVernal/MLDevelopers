{
 "cells": [
  {
   "cell_type": "markdown",
   "metadata": {},
   "source": [
    "# MNIST"
   ]
  },
  {
   "cell_type": "code",
   "execution_count": 1,
   "metadata": {
    "collapsed": true
   },
   "outputs": [],
   "source": [
    "import numpy as np\n",
    "import pickle\n",
    "import matplotlib.pyplot as plt"
   ]
  },
  {
   "cell_type": "code",
   "execution_count": 2,
   "metadata": {
    "collapsed": false
   },
   "outputs": [],
   "source": [
    "X = []\n",
    "Y = []\n",
    "with open('train.csv', 'r') as f:\n",
    "    f.readline()\n",
    "    for line in f:\n",
    "        data = line.strip().split(',')\n",
    "        X.append([float(i) for i in data[1:]])\n",
    "        Y.append(int(data[0]))\n",
    "        \n",
    "X = np.array(X)\n",
    "Y = np.array(Y)"
   ]
  },
  {
   "cell_type": "code",
   "execution_count": 3,
   "metadata": {
    "collapsed": false
   },
   "outputs": [
    {
     "data": {
      "text/plain": [
       "(42000,)"
      ]
     },
     "execution_count": 3,
     "metadata": {},
     "output_type": "execute_result"
    }
   ],
   "source": [
    "Y.shape"
   ]
  },
  {
   "cell_type": "code",
   "execution_count": 4,
   "metadata": {
    "collapsed": false
   },
   "outputs": [
    {
     "data": {
      "text/plain": [
       "(42000, 784)"
      ]
     },
     "execution_count": 4,
     "metadata": {},
     "output_type": "execute_result"
    }
   ],
   "source": [
    "X.shape"
   ]
  },
  {
   "cell_type": "code",
   "execution_count": 5,
   "metadata": {
    "collapsed": false,
    "scrolled": false
   },
   "outputs": [],
   "source": [
    "x = X.reshape(-1, 28,28)[9]"
   ]
  },
  {
   "cell_type": "code",
   "execution_count": 6,
   "metadata": {
    "collapsed": false
   },
   "outputs": [
    {
     "data": {
      "image/png": "[encoded data removed]",
      "text/plain": [
       "<matplotlib.figure.Figure at 0x106461400>"
      ]
     },
     "metadata": {},
     "output_type": "display_data"
    }
   ],
   "source": [
    "plt.figure(figsize=(5,5))\n",
    "plt.imshow(x, cmap='gray')\n",
    "plt.show()"
   ]
  },
  {
   "cell_type": "code",
   "execution_count": 7,
   "metadata": {
    "collapsed": false
   },
   "outputs": [
    {
     "name": "stderr",
     "output_type": "stream",
     "text": [
      "/Users/talipov/MyProjects/projectX/acosta_env/lib/python3.6/site-packages/sklearn/cross_validation.py:44: DeprecationWarning: This module was deprecated in version 0.18 in favor of the model_selection module into which all the refactored classes and functions are moved. Also note that the interface of the new CV iterators are different from that of this module. This module will be removed in 0.20.\n",
      "  \"This module will be removed in 0.20.\", DeprecationWarning)\n"
     ]
    }
   ],
   "source": [
    "from sklearn.cross_validation import train_test_split\n",
    "from sklearn.metrics import classification_report\n",
    "from sklearn.metrics import roc_auc_score\n",
    "from sklearn.tree import DecisionTreeClassifier"
   ]
  },
  {
   "cell_type": "code",
   "execution_count": 8,
   "metadata": {
    "collapsed": false
   },
   "outputs": [],
   "source": [
    "X_train, X_test, Y_train, Y_test = train_test_split(X, Y, test_size=0.5)"
   ]
  },
  {
   "cell_type": "code",
   "execution_count": 9,
   "metadata": {
    "collapsed": true
   },
   "outputs": [],
   "source": [
    "tree_clf = DecisionTreeClassifier(max_depth=7)"
   ]
  },
  {
   "cell_type": "code",
   "execution_count": 10,
   "metadata": {
    "collapsed": false
   },
   "outputs": [
    {
     "data": {
      "text/plain": [
       "DecisionTreeClassifier(class_weight=None, criterion='gini', max_depth=7,\n",
       "            max_features=None, max_leaf_nodes=None,\n",
       "            min_impurity_split=1e-07, min_samples_leaf=1,\n",
       "            min_samples_split=2, min_weight_fraction_leaf=0.0,\n",
       "            presort=False, random_state=None, splitter='best')"
      ]
     },
     "execution_count": 10,
     "metadata": {},
     "output_type": "execute_result"
    }
   ],
   "source": [
    "tree_clf.fit(X_train, Y_train)"
   ]
  },
  {
   "cell_type": "code",
   "execution_count": 11,
   "metadata": {
    "collapsed": false
   },
   "outputs": [],
   "source": [
    "Y_pred = tree_clf.predict(X_test)"
   ]
  },
  {
   "cell_type": "code",
   "execution_count": 12,
   "metadata": {
    "collapsed": false
   },
   "outputs": [
    {
     "data": {
      "text/plain": [
       "(21000,)"
      ]
     },
     "execution_count": 12,
     "metadata": {},
     "output_type": "execute_result"
    }
   ],
   "source": [
    "Y_pred.shape"
   ]
  },
  {
   "cell_type": "code",
   "execution_count": 13,
   "metadata": {
    "collapsed": false
   },
   "outputs": [
    {
     "name": "stdout",
     "output_type": "stream",
     "text": [
      "             precision    recall  f1-score   support\n",
      "\n",
      "          0       0.90      0.85      0.87      2075\n",
      "          1       0.81      0.89      0.85      2361\n",
      "          2       0.76      0.69      0.73      2079\n",
      "          3       0.63      0.72      0.67      2186\n",
      "          4       0.85      0.75      0.80      2028\n",
      "          5       0.69      0.64      0.66      1910\n",
      "          6       0.90      0.78      0.83      2092\n",
      "          7       0.91      0.79      0.84      2192\n",
      "          8       0.62      0.74      0.68      2012\n",
      "          9       0.71      0.82      0.76      2065\n",
      "\n",
      "avg / total       0.78      0.77      0.77     21000\n",
      "\n"
     ]
    }
   ],
   "source": [
    "print(classification_report(y_true=Y_test, y_pred=Y_pred))"
   ]
  },
  {
   "cell_type": "code",
   "execution_count": 14,
   "metadata": {
    "collapsed": true
   },
   "outputs": [],
   "source": [
    "from sklearn.metrics import confusion_matrix"
   ]
  },
  {
   "cell_type": "code",
   "execution_count": 22,
   "metadata": {
    "collapsed": false
   },
   "outputs": [
    {
     "data": {
      "image/png": "[encoded data removed]",
      "text/plain": [
       "<matplotlib.figure.Figure at 0x1202dbcc0>"
      ]
     },
     "metadata": {},
     "output_type": "display_data"
    }
   ],
   "source": [
    "plt.figure(figsize=(5,5))\n",
    "plt.imshow(\n",
    "    confusion_matrix(y_true=Y_test, y_pred=Y_pred),\n",
    "    interpolation='nearest', \n",
    "    cmap='coolwarm'\n",
    ")\n",
    "plt.show()"
   ]
  },
  {
   "cell_type": "code",
   "execution_count": 23,
   "metadata": {
    "collapsed": false
   },
   "outputs": [
    {
     "data": {
      "text/plain": [
       "(array([[1756,    8,   53,   69,   10,   83,   28,   22,   30,   16],\n",
       "        [   1, 2091,   57,   54,    7,   12,    2,    6,  130,    1],\n",
       "        [  41,  127, 1444,   97,   18,   35,   24,   46,  207,   40],\n",
       "        [  24,   54,   87, 1579,   15,  162,   18,   22,  147,   78],\n",
       "        [  14,  105,   26,   63, 1519,   30,   13,   11,   95,  152],\n",
       "        [  46,   41,   32,  254,   30, 1220,   61,   23,   95,  108],\n",
       "        [  27,   61,   53,   76,   67,   95, 1631,    7,   69,    6],\n",
       "        [   6,   34,   55,   51,   41,   27,    0, 1727,   45,  206],\n",
       "        [  38,   59,   54,  159,   13,   70,   31,    9, 1489,   90],\n",
       "        [   9,    7,   35,  107,   61,   28,   10,   33,   88, 1687]]),)"
      ]
     },
     "execution_count": 23,
     "metadata": {},
     "output_type": "execute_result"
    }
   ],
   "source": [
    "confusion_matrix(y_true=Y_test, y_pred=Y_pred),"
   ]
  },
  {
   "cell_type": "code",
   "execution_count": 147,
   "metadata": {
    "collapsed": true
   },
   "outputs": [],
   "source": [
    "Y_proba = tree_clf.predict_proba(X_test)"
   ]
  },
  {
   "cell_type": "markdown",
   "metadata": {},
   "source": [
    "# Информативность признаков"
   ]
  },
  {
   "cell_type": "code",
   "execution_count": 148,
   "metadata": {
    "collapsed": false
   },
   "outputs": [
    {
     "data": {
      "image/png": "[encoded data removed]",
      "text/plain": [
       "<matplotlib.figure.Figure at 0x11b59b3c8>"
      ]
     },
     "metadata": {},
     "output_type": "display_data"
    }
   ],
   "source": [
    "plt.figure(figsize=(5,5))\n",
    "plt.imshow(tree_clf.feature_importances_.reshape(28,28), interpolation='nearest', cmap='coolwarm')\n",
    "plt.show()"
   ]
  },
  {
   "cell_type": "code",
   "execution_count": 39,
   "metadata": {
    "collapsed": false
   },
   "outputs": [
    {
     "data": {
      "text/plain": [
       "(42000, 99)"
      ]
     },
     "execution_count": 39,
     "metadata": {},
     "output_type": "execute_result"
    }
   ],
   "source": [
    "X[:,tree_clf.feature_importances_.argsort()[-99:]].shape"
   ]
  },
  {
   "cell_type": "code",
   "execution_count": 184,
   "metadata": {
    "collapsed": true
   },
   "outputs": [],
   "source": [
    "feature_importance = []\n",
    "\n",
    "for max_depth in range(4, 32, 2):\n",
    "    tree_clf = DecisionTreeClassifier(max_depth=max_depth)\n",
    "    tree_clf.fit(X_train, Y_train)\n",
    "    feature_importance.append(tree_clf.feature_importances_.reshape(28,28))\n",
    "    \n",
    "feature_importance = np.array(feature_importance)\n"
   ]
  },
  {
   "cell_type": "code",
   "execution_count": 191,
   "metadata": {
    "collapsed": false
   },
   "outputs": [
    {
     "data": {
      "image/png": "[encoded data removed]",
      "text/plain": [
       "<matplotlib.figure.Figure at 0x113de84a8>"
      ]
     },
     "metadata": {},
     "output_type": "display_data"
    },
    {
     "data": {
      "image/png": "[encoded data removed]",
      "text/plain": [
       "<matplotlib.figure.Figure at 0x11aba28d0>"
      ]
     },
     "metadata": {},
     "output_type": "display_data"
    }
   ],
   "source": [
    "fi_4_18 = feature_importance[:7]\n",
    "fi_18_31 = feature_importance[7:]\n",
    "for fi in  [fi_4_18, fi_18_31]:\n",
    "    plt.figure(figsize=(25,5))\n",
    "    plt.imshow(\n",
    "        fi.transpose(1,0, 2).reshape(28, 28*7),\n",
    "        interpolation='nearest',\n",
    "        cmap='coolwarm'\n",
    "    )\n",
    "    plt.show()\n"
   ]
  },
  {
   "cell_type": "markdown",
   "metadata": {},
   "source": [
    "# Важность признаков для конкретного класса"
   ]
  },
  {
   "cell_type": "code",
   "execution_count": 193,
   "metadata": {
    "collapsed": false
   },
   "outputs": [],
   "source": [
    "_Y = np.copy(Y)"
   ]
  },
  {
   "cell_type": "code",
   "execution_count": 198,
   "metadata": {
    "collapsed": false,
    "scrolled": false
   },
   "outputs": [
    {
     "name": "stdout",
     "output_type": "stream",
     "text": [
      "klass 0\n",
      "             precision    recall  f1-score   support\n",
      "\n",
      "          0       0.99      0.99      0.99     19004\n",
      "          1       0.91      0.91      0.91      1996\n",
      "\n",
      "avg / total       0.98      0.98      0.98     21000\n",
      "\n"
     ]
    },
    {
     "data": {
      "image/png": "[encoded data removed]",
      "text/plain": [
       "<matplotlib.figure.Figure at 0x113d9fd68>"
      ]
     },
     "metadata": {},
     "output_type": "display_data"
    },
    {
     "name": "stdout",
     "output_type": "stream",
     "text": [
      "================================================================================\n",
      "klass 1\n",
      "             precision    recall  f1-score   support\n",
      "\n",
      "          0       0.99      0.99      0.99     18610\n",
      "          1       0.94      0.93      0.93      2390\n",
      "\n",
      "avg / total       0.99      0.99      0.99     21000\n",
      "\n"
     ]
    },
    {
     "data": {
      "image/png": "[encoded data removed]",
      "text/plain": [
       "<matplotlib.figure.Figure at 0x11128bcf8>"
      ]
     },
     "metadata": {},
     "output_type": "display_data"
    },
    {
     "name": "stdout",
     "output_type": "stream",
     "text": [
      "================================================================================\n",
      "klass 2\n",
      "             precision    recall  f1-score   support\n",
      "\n",
      "          0       0.98      0.99      0.98     18894\n",
      "          1       0.86      0.84      0.85      2106\n",
      "\n",
      "avg / total       0.97      0.97      0.97     21000\n",
      "\n"
     ]
    },
    {
     "data": {
      "image/png": "[encoded data removed]",
      "text/plain": [
       "<matplotlib.figure.Figure at 0x11b245be0>"
      ]
     },
     "metadata": {},
     "output_type": "display_data"
    },
    {
     "name": "stdout",
     "output_type": "stream",
     "text": [
      "================================================================================\n",
      "klass 3\n",
      "             precision    recall  f1-score   support\n",
      "\n",
      "          0       0.98      0.98      0.98     18819\n",
      "          1       0.83      0.83      0.83      2181\n",
      "\n",
      "avg / total       0.96      0.96      0.96     21000\n",
      "\n"
     ]
    },
    {
     "data": {
      "image/png": "[encoded data removed]",
      "text/plain": [
       "<matplotlib.figure.Figure at 0x11ad2ec88>"
      ]
     },
     "metadata": {},
     "output_type": "display_data"
    },
    {
     "name": "stdout",
     "output_type": "stream",
     "text": [
      "================================================================================\n",
      "klass 4\n",
      "             precision    recall  f1-score   support\n",
      "\n",
      "          0       0.98      0.99      0.98     19007\n",
      "          1       0.86      0.85      0.86      1993\n",
      "\n",
      "avg / total       0.97      0.97      0.97     21000\n",
      "\n"
     ]
    },
    {
     "data": {
      "image/png": "[encoded data removed]",
      "text/plain": [
       "<matplotlib.figure.Figure at 0x1083051d0>"
      ]
     },
     "metadata": {},
     "output_type": "display_data"
    },
    {
     "name": "stdout",
     "output_type": "stream",
     "text": [
      "================================================================================\n",
      "klass 5\n",
      "             precision    recall  f1-score   support\n",
      "\n",
      "          0       0.98      0.98      0.98     19112\n",
      "          1       0.83      0.79      0.81      1888\n",
      "\n",
      "avg / total       0.97      0.97      0.97     21000\n",
      "\n"
     ]
    },
    {
     "data": {
      "image/png": "[encoded data removed]",
      "text/plain": [
       "<matplotlib.figure.Figure at 0x11aa19860>"
      ]
     },
     "metadata": {},
     "output_type": "display_data"
    },
    {
     "name": "stdout",
     "output_type": "stream",
     "text": [
      "================================================================================\n",
      "klass 6\n",
      "             precision    recall  f1-score   support\n",
      "\n",
      "          0       0.99      0.99      0.99     18986\n",
      "          1       0.91      0.89      0.90      2014\n",
      "\n",
      "avg / total       0.98      0.98      0.98     21000\n",
      "\n"
     ]
    },
    {
     "data": {
      "image/png": "[encoded data removed]",
      "text/plain": [
       "<matplotlib.figure.Figure at 0x113dca898>"
      ]
     },
     "metadata": {},
     "output_type": "display_data"
    },
    {
     "name": "stdout",
     "output_type": "stream",
     "text": [
      "================================================================================\n",
      "klass 7\n",
      "             precision    recall  f1-score   support\n",
      "\n",
      "          0       0.99      0.99      0.99     18785\n",
      "          1       0.88      0.88      0.88      2215\n",
      "\n",
      "avg / total       0.97      0.97      0.97     21000\n",
      "\n"
     ]
    },
    {
     "data": {
      "image/png": "[encoded data removed]",
      "text/plain": [
       "<matplotlib.figure.Figure at 0x11abbfa90>"
      ]
     },
     "metadata": {},
     "output_type": "display_data"
    },
    {
     "name": "stdout",
     "output_type": "stream",
     "text": [
      "================================================================================\n",
      "klass 8\n",
      "             precision    recall  f1-score   support\n",
      "\n",
      "          0       0.97      0.98      0.98     18952\n",
      "          1       0.78      0.74      0.76      2048\n",
      "\n",
      "avg / total       0.95      0.95      0.95     21000\n",
      "\n"
     ]
    },
    {
     "data": {
      "image/png": "[encoded data removed]",
      "text/plain": [
       "<matplotlib.figure.Figure at 0x11a786a20>"
      ]
     },
     "metadata": {},
     "output_type": "display_data"
    },
    {
     "name": "stdout",
     "output_type": "stream",
     "text": [
      "================================================================================\n",
      "klass 9\n",
      "             precision    recall  f1-score   support\n",
      "\n",
      "          0       0.98      0.98      0.98     18847\n",
      "          1       0.83      0.80      0.82      2153\n",
      "\n",
      "avg / total       0.96      0.96      0.96     21000\n",
      "\n"
     ]
    },
    {
     "data": {
      "image/png": "[encoded data removed]",
      "text/plain": [
       "<matplotlib.figure.Figure at 0x114037c50>"
      ]
     },
     "metadata": {},
     "output_type": "display_data"
    },
    {
     "name": "stdout",
     "output_type": "stream",
     "text": [
      "================================================================================\n"
     ]
    }
   ],
   "source": [
    "for klass in range(10):\n",
    "    _Y = np.copy(Y)\n",
    "    _Y[Y==klass] = 1\n",
    "    _Y[Y!=klass] = 0\n",
    "    X_train, X_test, Y_train, Y_test = train_test_split(X, _Y, test_size=0.5)\n",
    "    \n",
    "    tree_clf = DecisionTreeClassifier(max_depth=None, class_weight={1:9, 0:1})\n",
    "    tree_clf.fit(X_train, Y_train)\n",
    "    Y_pred = tree_clf.predict(X_test)\n",
    "    \n",
    "    print('klass', klass)\n",
    "    print(classification_report(y_true=Y_test, y_pred=Y_pred))\n",
    "    plt.figure(figsize=(5,5))\n",
    "    plt.imshow(tree_clf.feature_importances_.reshape(28,28), interpolation='nearest', cmap='coolwarm')\n",
    "    plt.show()\n",
    "    print('='*80)"
   ]
  },
  {
   "cell_type": "code",
   "execution_count": 203,
   "metadata": {
    "collapsed": false,
    "scrolled": false
   },
   "outputs": [
    {
     "name": "stdout",
     "output_type": "stream",
     "text": [
      "klass 0\n",
      "0.948944535265\n",
      "0.949881413079\n"
     ]
    },
    {
     "data": {
      "text/plain": [
       "<matplotlib.figure.Figure at 0x113daa5c0>"
      ]
     },
     "metadata": {},
     "output_type": "display_data"
    },
    {
     "data": {
      "image/png": "[encoded data removed]",
      "text/plain": [
       "<matplotlib.figure.Figure at 0x1140ab400>"
      ]
     },
     "metadata": {},
     "output_type": "display_data"
    },
    {
     "name": "stdout",
     "output_type": "stream",
     "text": [
      "================================================================================\n",
      "klass 1\n",
      "0.958102481656\n",
      "0.968329873287\n"
     ]
    },
    {
     "data": {
      "image/png": "[encoded data removed]",
      "text/plain": [
       "<matplotlib.figure.Figure at 0x11ab6c630>"
      ]
     },
     "metadata": {},
     "output_type": "display_data"
    },
    {
     "name": "stdout",
     "output_type": "stream",
     "text": [
      "================================================================================\n",
      "klass 2\n",
      "0.909832526079\n",
      "0.907913362219\n"
     ]
    },
    {
     "data": {
      "image/png": "[encoded data removed]",
      "text/plain": [
       "<matplotlib.figure.Figure at 0x111375208>"
      ]
     },
     "metadata": {},
     "output_type": "display_data"
    },
    {
     "name": "stdout",
     "output_type": "stream",
     "text": [
      "================================================================================\n",
      "klass 3\n",
      "0.89424559543\n",
      "0.897440265602\n"
     ]
    },
    {
     "data": {
      "image/png": "[encoded data removed]",
      "text/plain": [
       "<matplotlib.figure.Figure at 0x1082fbf28>"
      ]
     },
     "metadata": {},
     "output_type": "display_data"
    },
    {
     "name": "stdout",
     "output_type": "stream",
     "text": [
      "================================================================================\n",
      "klass 4\n",
      "0.92056923585\n",
      "0.898799008417\n"
     ]
    },
    {
     "data": {
      "image/png": "[encoded data removed]",
      "text/plain": [
       "<matplotlib.figure.Figure at 0x11133db38>"
      ]
     },
     "metadata": {},
     "output_type": "display_data"
    },
    {
     "name": "stdout",
     "output_type": "stream",
     "text": [
      "================================================================================\n",
      "klass 5\n",
      "0.912136116799\n",
      "0.886527292017\n"
     ]
    },
    {
     "data": {
      "image/png": "[encoded data removed]",
      "text/plain": [
       "<matplotlib.figure.Figure at 0x118551b38>"
      ]
     },
     "metadata": {},
     "output_type": "display_data"
    },
    {
     "name": "stdout",
     "output_type": "stream",
     "text": [
      "================================================================================\n",
      "klass 6\n",
      "0.941526206586\n",
      "0.948848282979\n"
     ]
    },
    {
     "data": {
      "image/png": "[encoded data removed]",
      "text/plain": [
       "<matplotlib.figure.Figure at 0x11ad20c88>"
      ]
     },
     "metadata": {},
     "output_type": "display_data"
    },
    {
     "name": "stdout",
     "output_type": "stream",
     "text": [
      "================================================================================\n",
      "klass 7\n",
      "0.930297469994\n",
      "0.938439618773\n"
     ]
    },
    {
     "data": {
      "image/png": "[encoded data removed]",
      "text/plain": [
       "<matplotlib.figure.Figure at 0x11ab997f0>"
      ]
     },
     "metadata": {},
     "output_type": "display_data"
    },
    {
     "name": "stdout",
     "output_type": "stream",
     "text": [
      "================================================================================\n",
      "klass 8\n",
      "0.887456033248\n",
      "0.866798193687\n"
     ]
    },
    {
     "data": {
      "image/png": "[encoded data removed]",
      "text/plain": [
       "<matplotlib.figure.Figure at 0x11404ca90>"
      ]
     },
     "metadata": {},
     "output_type": "display_data"
    },
    {
     "name": "stdout",
     "output_type": "stream",
     "text": [
      "================================================================================\n",
      "klass 9\n",
      "0.890914888396\n",
      "0.885790120407\n"
     ]
    },
    {
     "data": {
      "image/png": "[encoded data removed]",
      "text/plain": [
       "<matplotlib.figure.Figure at 0x11a85b160>"
      ]
     },
     "metadata": {},
     "output_type": "display_data"
    },
    {
     "name": "stdout",
     "output_type": "stream",
     "text": [
      "================================================================================\n"
     ]
    }
   ],
   "source": [
    "# roc_auc_score\n",
    "for klass in range(10):\n",
    "    _Y = np.copy(Y)\n",
    "    _Y[Y==klass] = 1\n",
    "    _Y[Y!=klass] = 0\n",
    "    X_train, X_test, Y_train, Y_test = train_test_split(X, _Y, test_size=0.5)\n",
    "    \n",
    "    tree_clf = DecisionTreeClassifier(max_depth=None, class_weight={1:9, 0:1})\n",
    "    tree_clf.fit(X_train, Y_train)\n",
    "    Y_pred_proba = tree_clf.predict_proba(X_test)\n",
    "\n",
    "    print('klass', klass)\n",
    "    print(roc_auc_score(y_true=Y_test, y_score=Y_pred_proba[:,1]))\n",
    "    train_feature = tree_clf.feature_importances_.reshape(28,28)\n",
    "    \n",
    "    tree_clf = DecisionTreeClassifier(max_depth=None, class_weight={1:9, 0:1})\n",
    "    tree_clf.fit(X_test, Y_test)\n",
    "    Y_pred_proba = tree_clf.predict_proba(X_train)\n",
    "    test_feature = tree_clf.feature_importances_.reshape(28,28)\n",
    "    print(roc_auc_score(y_true=Y_train, y_score=Y_pred_proba[:,1]))\n",
    "    \n",
    "    fi = np.array([train_feature, test_feature])\n",
    "    \n",
    "    \n",
    "    plt.figure(figsize=(10,5))\n",
    "    plt.imshow(fi.transpose(1,0, 2).reshape(28, 28*2), interpolation='nearest', cmap='coolwarm')\n",
    "    plt.show()\n",
    "    print('='*80)"
   ]
  },
  {
   "cell_type": "markdown",
   "metadata": {},
   "source": [
    "# Отбор признаков"
   ]
  },
  {
   "cell_type": "code",
   "execution_count": 208,
   "metadata": {
    "collapsed": true
   },
   "outputs": [],
   "source": [
    "from sklearn.feature_selection import VarianceThreshold"
   ]
  },
  {
   "cell_type": "code",
   "execution_count": 226,
   "metadata": {
    "collapsed": false
   },
   "outputs": [
    {
     "data": {
      "image/png": "[encoded data removed]",
      "text/plain": [
       "<matplotlib.figure.Figure at 0x153cd6a20>"
      ]
     },
     "metadata": {},
     "output_type": "display_data"
    }
   ],
   "source": [
    "sel = VarianceThreshold(threshold=0.01)\n",
    "_X = sel.fit_transform(X)\n",
    "plt.figure(figsize=(5,5))\n",
    "plt.imshow(sel.variances_.reshape(28,28), interpolation='nearest', cmap='coolwarm')\n",
    "plt.show()"
   ]
  },
  {
   "cell_type": "code",
   "execution_count": 230,
   "metadata": {
    "collapsed": false
   },
   "outputs": [],
   "source": [
    "from sklearn.feature_selection import SelectKBest\n",
    "from sklearn.feature_selection import f_classif\n",
    "from sklearn.feature_selection import chi2, mutual_info_classif"
   ]
  },
  {
   "cell_type": "code",
   "execution_count": 247,
   "metadata": {
    "collapsed": false
   },
   "outputs": [
    {
     "name": "stderr",
     "output_type": "stream",
     "text": [
      "/Users/talipov/MyProjects/projectX/acosta_env/lib/python3.6/site-packages/sklearn/feature_selection/univariate_selection.py:113: UserWarning: Features [  0   1   2   3   4   5   6   7   8   9  10  11  16  17  18  19  20  21\n",
      "  22  23  24  25  26  27  28  29  30  31  52  53  54  55  56  57  82  83\n",
      "  84  85 111 112 139 140 141 168 196 392 420 421 448 476 532 560 644 645\n",
      " 671 672 673 699 700 701 727 728 729 730 731 754 755 756 757 758 759 760\n",
      " 780 781 782 783] are constant.\n",
      "  UserWarning)\n",
      "/Users/talipov/MyProjects/projectX/acosta_env/lib/python3.6/site-packages/sklearn/feature_selection/univariate_selection.py:114: RuntimeWarning: invalid value encountered in true_divide\n",
      "  f = msb / msw\n"
     ]
    },
    {
     "data": {
      "image/png": "[encoded data removed]",
      "text/plain": [
       "<matplotlib.figure.Figure at 0x11aad3320>"
      ]
     },
     "metadata": {},
     "output_type": "display_data"
    }
   ],
   "source": [
    "sel = SelectKBest(f_classif, k=784)\n",
    "sel.fit(X, Y)\n",
    "plt.figure(figsize=(5,5))\n",
    "plt.imshow(np.nan_to_num(sel.scores_).reshape(28,28), interpolation='nearest', cmap='coolwarm')\n",
    "plt.show()"
   ]
  },
  {
   "cell_type": "code",
   "execution_count": 245,
   "metadata": {
    "collapsed": false
   },
   "outputs": [
    {
     "data": {
      "image/png": "[encoded data removed]",
      "text/plain": [
       "<matplotlib.figure.Figure at 0x113d93588>"
      ]
     },
     "metadata": {},
     "output_type": "display_data"
    }
   ],
   "source": [
    "sel = SelectKBest(chi2, k=784)\n",
    "sel.fit(X, Y)\n",
    "plt.figure(figsize=(5,5))\n",
    "plt.imshow(np.nan_to_num(sel.scores_).reshape(28,28), interpolation='nearest', cmap='coolwarm')\n",
    "plt.show()"
   ]
  },
  {
   "cell_type": "code",
   "execution_count": 246,
   "metadata": {
    "collapsed": false
   },
   "outputs": [
    {
     "data": {
      "image/png": "[encoded data removed]",
      "text/plain": [
       "<matplotlib.figure.Figure at 0x11b58fdd8>"
      ]
     },
     "metadata": {},
     "output_type": "display_data"
    }
   ],
   "source": [
    "sel = SelectKBest(mutual_info_classif, k=784)\n",
    "sel.fit(X, Y)\n",
    "plt.figure(figsize=(5,5))\n",
    "plt.imshow(np.nan_to_num(sel.scores_).reshape(28,28), interpolation='nearest', cmap='coolwarm')\n",
    "plt.show()"
   ]
  },
  {
   "cell_type": "code",
   "execution_count": 151,
   "metadata": {
    "collapsed": false
   },
   "outputs": [],
   "source": [
    "path = tree_clf.decision_path([X_train[0]])"
   ]
  },
  {
   "cell_type": "code",
   "execution_count": 152,
   "metadata": {
    "collapsed": false
   },
   "outputs": [],
   "source": [
    "n_nodes = tree_clf.tree_.node_count\n",
    "children_left = tree_clf.tree_.children_left\n",
    "children_right = tree_clf.tree_.children_right\n",
    "feature = tree_clf.tree_.feature\n",
    "threshold = tree_clf.tree_.threshold\n",
    "leafs_value = tree_clf.tree_.value"
   ]
  },
  {
   "cell_type": "code",
   "execution_count": 205,
   "metadata": {
    "collapsed": false
   },
   "outputs": [],
   "source": [
    "# children_left"
   ]
  },
  {
   "cell_type": "code",
   "execution_count": 204,
   "metadata": {
    "collapsed": false
   },
   "outputs": [],
   "source": [
    "# children_right"
   ]
  },
  {
   "cell_type": "code",
   "execution_count": 206,
   "metadata": {
    "collapsed": false
   },
   "outputs": [],
   "source": [
    "# feature "
   ]
  },
  {
   "cell_type": "code",
   "execution_count": 156,
   "metadata": {
    "collapsed": false,
    "scrolled": false
   },
   "outputs": [
    {
     "name": "stdout",
     "output_type": "stream",
     "text": [
      "The binary tree structure has 251 nodes and has the following tree structure:\n",
      "node=0 test node: go to node 1 if X[:, 409] <= 0.5 else to node 128.\n",
      "  node=1 test node: go to node 2 if X[:, 434] <= 0.5 else to node 65.\n",
      "    node=2 test node: go to node 3 if X[:, 455] <= 5.5 else to node 34.\n",
      "      node=3 test node: go to node 4 if X[:, 352] <= 5.0 else to node 19.\n",
      "        node=4 test node: go to node 5 if X[:, 517] <= 15.5 else to node 12.\n",
      "          node=5 test node: go to node 6 if X[:, 184] <= 4.5 else to node 9.\n",
      "            node=6 test node: go to node 7 if X[:, 570] <= 4.5 else to node 8.\n",
      "              node=7 leaf node.\n",
      "              node=8 leaf node.\n",
      "            node=9 test node: go to node 10 if X[:, 433] <= 47.5 else to node 11.\n",
      "              node=10 leaf node.\n",
      "              node=11 leaf node.\n",
      "          node=12 test node: go to node 13 if X[:, 542] <= 35.5 else to node 16.\n",
      "            node=13 test node: go to node 14 if X[:, 524] <= 5.0 else to node 15.\n",
      "              node=14 leaf node.\n",
      "              node=15 leaf node.\n",
      "            node=16 test node: go to node 17 if X[:, 151] <= 2.0 else to node 18.\n",
      "              node=17 leaf node.\n",
      "              node=18 leaf node.\n",
      "        node=19 test node: go to node 20 if X[:, 268] <= 9.5 else to node 27.\n",
      "          node=20 test node: go to node 21 if X[:, 486] <= 51.5 else to node 24.\n",
      "            node=21 test node: go to node 22 if X[:, 182] <= 4.5 else to node 23.\n",
      "              node=22 leaf node.\n",
      "              node=23 leaf node.\n",
      "            node=24 test node: go to node 25 if X[:, 523] <= 144.5 else to node 26.\n",
      "              node=25 leaf node.\n",
      "              node=26 leaf node.\n",
      "          node=27 test node: go to node 28 if X[:, 486] <= 163.0 else to node 31.\n",
      "            node=28 test node: go to node 29 if X[:, 288] <= 61.0 else to node 30.\n",
      "              node=29 leaf node.\n",
      "              node=30 leaf node.\n",
      "            node=31 test node: go to node 32 if X[:, 318] <= 10.0 else to node 33.\n",
      "              node=32 leaf node.\n",
      "              node=33 leaf node.\n",
      "      node=34 test node: go to node 35 if X[:, 489] <= 95.5 else to node 50.\n",
      "        node=35 test node: go to node 36 if X[:, 352] <= 123.5 else to node 43.\n",
      "          node=36 test node: go to node 37 if X[:, 715] <= 35.0 else to node 40.\n",
      "            node=37 test node: go to node 38 if X[:, 719] <= 2.5 else to node 39.\n",
      "              node=38 leaf node.\n",
      "              node=39 leaf node.\n",
      "            node=40 test node: go to node 41 if X[:, 183] <= 93.0 else to node 42.\n",
      "              node=41 leaf node.\n",
      "              node=42 leaf node.\n",
      "          node=43 test node: go to node 44 if X[:, 268] <= 143.0 else to node 47.\n",
      "            node=44 test node: go to node 45 if X[:, 512] <= 190.0 else to node 46.\n",
      "              node=45 leaf node.\n",
      "              node=46 leaf node.\n",
      "            node=47 test node: go to node 48 if X[:, 400] <= 2.0 else to node 49.\n",
      "              node=48 leaf node.\n",
      "              node=49 leaf node.\n",
      "        node=50 test node: go to node 51 if X[:, 387] <= 101.5 else to node 58.\n",
      "          node=51 test node: go to node 52 if X[:, 494] <= 20.0 else to node 55.\n",
      "            node=52 test node: go to node 53 if X[:, 240] <= 6.5 else to node 54.\n",
      "              node=53 leaf node.\n",
      "              node=54 leaf node.\n",
      "            node=55 test node: go to node 56 if X[:, 573] <= 23.5 else to node 57.\n",
      "              node=56 leaf node.\n",
      "              node=57 leaf node.\n",
      "          node=58 test node: go to node 59 if X[:, 432] <= 54.0 else to node 62.\n",
      "            node=59 test node: go to node 60 if X[:, 341] <= 253.5 else to node 61.\n",
      "              node=60 leaf node.\n",
      "              node=61 leaf node.\n",
      "            node=62 test node: go to node 63 if X[:, 350] <= 97.0 else to node 64.\n",
      "              node=63 leaf node.\n",
      "              node=64 leaf node.\n",
      "    node=65 test node: go to node 66 if X[:, 375] <= 0.5 else to node 97.\n",
      "      node=66 test node: go to node 67 if X[:, 550] <= 0.5 else to node 82.\n",
      "        node=67 test node: go to node 68 if X[:, 206] <= 0.5 else to node 75.\n",
      "          node=68 test node: go to node 69 if X[:, 458] <= 98.5 else to node 72.\n",
      "            node=69 test node: go to node 70 if X[:, 378] <= 133.0 else to node 71.\n",
      "              node=70 leaf node.\n",
      "              node=71 leaf node.\n",
      "            node=72 test node: go to node 73 if X[:, 349] <= 149.5 else to node 74.\n",
      "              node=73 leaf node.\n",
      "              node=74 leaf node.\n",
      "          node=75 test node: go to node 76 if X[:, 542] <= 3.0 else to node 79.\n",
      "            node=76 test node: go to node 77 if X[:, 320] <= 88.0 else to node 78.\n",
      "              node=77 leaf node.\n",
      "              node=78 leaf node.\n",
      "            node=79 test node: go to node 80 if X[:, 320] <= 120.5 else to node 81.\n",
      "              node=80 leaf node.\n",
      "              node=81 leaf node.\n",
      "        node=82 test node: go to node 83 if X[:, 372] <= 3.5 else to node 90.\n",
      "          node=83 test node: go to node 84 if X[:, 552] <= 2.5 else to node 87.\n",
      "            node=84 test node: go to node 85 if X[:, 546] <= 41.0 else to node 86.\n",
      "              node=85 leaf node.\n",
      "              node=86 leaf node.\n",
      "            node=87 test node: go to node 88 if X[:, 460] <= 10.5 else to node 89.\n",
      "              node=88 leaf node.\n",
      "              node=89 leaf node.\n",
      "          node=90 test node: go to node 91 if X[:, 542] <= 49.5 else to node 94.\n",
      "            node=91 test node: go to node 92 if X[:, 411] <= 2.5 else to node 93.\n",
      "              node=92 leaf node.\n",
      "              node=93 leaf node.\n",
      "            node=94 test node: go to node 95 if X[:, 218] <= 176.5 else to node 96.\n",
      "              node=95 leaf node.\n",
      "              node=96 leaf node.\n",
      "      node=97 test node: go to node 98 if X[:, 351] <= 25.5 else to node 113.\n",
      "        node=98 test node: go to node 99 if X[:, 487] <= 56.0 else to node 106.\n",
      "          node=99 test node: go to node 100 if X[:, 440] <= 2.0 else to node 103.\n",
      "            node=100 test node: go to node 101 if X[:, 150] <= 1.0 else to node 102.\n",
      "              node=101 leaf node.\n",
      "              node=102 leaf node.\n",
      "            node=103 test node: go to node 104 if X[:, 463] <= 107.0 else to node 105.\n",
      "              node=104 leaf node.\n",
      "              node=105 leaf node.\n",
      "          node=106 test node: go to node 107 if X[:, 657] <= 10.5 else to node 110.\n",
      "            node=107 test node: go to node 108 if X[:, 602] <= 81.5 else to node 109.\n",
      "              node=108 leaf node.\n",
      "              node=109 leaf node.\n",
      "            node=110 test node: go to node 111 if X[:, 354] <= 2.0 else to node 112.\n",
      "              node=111 leaf node.\n",
      "              node=112 leaf node.\n",
      "        node=113 test node: go to node 114 if X[:, 657] <= 4.5 else to node 121.\n",
      "          node=114 test node: go to node 115 if X[:, 384] <= 35.5 else to node 118.\n",
      "            node=115 test node: go to node 116 if X[:, 554] <= 6.5 else to node 117.\n",
      "              node=116 leaf node.\n",
      "              node=117 leaf node.\n",
      "            node=118 test node: go to node 119 if X[:, 594] <= 51.5 else to node 120.\n",
      "              node=119 leaf node.\n",
      "              node=120 leaf node.\n",
      "          node=121 test node: go to node 122 if X[:, 515] <= 7.5 else to node 125.\n",
      "            node=122 test node: go to node 123 if X[:, 485] <= 99.0 else to node 124.\n",
      "              node=123 leaf node.\n",
      "              node=124 leaf node.\n",
      "            node=125 test node: go to node 126 if X[:, 294] <= 246.0 else to node 127.\n",
      "              node=126 leaf node.\n",
      "              node=127 leaf node.\n",
      "  node=128 test node: go to node 129 if X[:, 155] <= 0.5 else to node 188.\n",
      "    node=129 test node: go to node 130 if X[:, 239] <= 0.5 else to node 157.\n",
      "      node=130 test node: go to node 131 if X[:, 96] <= 0.5 else to node 146.\n",
      "        node=131 test node: go to node 132 if X[:, 429] <= 36.5 else to node 139.\n",
      "          node=132 test node: go to node 133 if X[:, 597] <= 53.5 else to node 136.\n",
      "            node=133 test node: go to node 134 if X[:, 294] <= 61.5 else to node 135.\n",
      "              node=134 leaf node.\n",
      "              node=135 leaf node.\n",
      "            node=136 test node: go to node 137 if X[:, 352] <= 232.5 else to node 138.\n",
      "              node=137 leaf node.\n",
      "              node=138 leaf node.\n",
      "          node=139 test node: go to node 140 if X[:, 183] <= 155.0 else to node 143.\n",
      "            node=140 test node: go to node 141 if X[:, 93] <= 2.0 else to node 142.\n",
      "              node=141 leaf node.\n",
      "              node=142 leaf node.\n",
      "            node=143 test node: go to node 144 if X[:, 207] <= 253.5 else to node 145.\n",
      "              node=144 leaf node.\n",
      "              node=145 leaf node.\n",
      "        node=146 test node: go to node 147 if X[:, 186] <= 5.0 else to node 154.\n",
      "          node=147 test node: go to node 148 if X[:, 294] <= 52.0 else to node 151.\n",
      "            node=148 test node: go to node 149 if X[:, 217] <= 79.0 else to node 150.\n",
      "              node=149 leaf node.\n",
      "              node=150 leaf node.\n",
      "            node=151 test node: go to node 152 if X[:, 492] <= 141.5 else to node 153.\n",
      "              node=152 leaf node.\n",
      "              node=153 leaf node.\n",
      "          node=154 test node: go to node 155 if X[:, 518] <= 103.5 else to node 156.\n",
      "            node=155 leaf node.\n",
      "            node=156 leaf node.\n",
      "      node=157 test node: go to node 158 if X[:, 432] <= 1.5 else to node 173.\n",
      "        node=158 test node: go to node 159 if X[:, 377] <= 9.5 else to node 166.\n",
      "          node=159 test node: go to node 160 if X[:, 486] <= 15.5 else to node 163.\n",
      "            node=160 test node: go to node 161 if X[:, 567] <= 39.5 else to node 162.\n",
      "              node=161 leaf node.\n",
      "              node=162 leaf node.\n",
      "            node=163 test node: go to node 164 if X[:, 568] <= 27.5 else to node 165.\n",
      "              node=164 leaf node.\n",
      "              node=165 leaf node.\n",
      "          node=166 test node: go to node 167 if X[:, 218] <= 3.5 else to node 170.\n",
      "            node=167 test node: go to node 168 if X[:, 491] <= 10.0 else to node 169.\n",
      "              node=168 leaf node.\n",
      "              node=169 leaf node.\n",
      "            node=170 test node: go to node 171 if X[:, 327] <= 14.5 else to node 172.\n",
      "              node=171 leaf node.\n",
      "              node=172 leaf node.\n",
      "        node=173 test node: go to node 174 if X[:, 569] <= 0.5 else to node 181.\n",
      "          node=174 test node: go to node 175 if X[:, 317] <= 1.5 else to node 178.\n",
      "            node=175 test node: go to node 176 if X[:, 179] <= 6.0 else to node 177.\n",
      "              node=176 leaf node.\n",
      "              node=177 leaf node.\n",
      "            node=178 test node: go to node 179 if X[:, 237] <= 4.5 else to node 180.\n",
      "              node=179 leaf node.\n",
      "              node=180 leaf node.\n",
      "          node=181 test node: go to node 182 if X[:, 104] <= 9.0 else to node 185.\n",
      "            node=182 test node: go to node 183 if X[:, 488] <= 6.5 else to node 184.\n",
      "              node=183 leaf node.\n",
      "              node=184 leaf node.\n",
      "            node=185 test node: go to node 186 if X[:, 298] <= 68.5 else to node 187.\n",
      "              node=186 leaf node.\n",
      "              node=187 leaf node.\n",
      "    node=188 test node: go to node 189 if X[:, 657] <= 0.5 else to node 220.\n",
      "      node=189 test node: go to node 190 if X[:, 347] <= 1.5 else to node 205.\n",
      "        node=190 test node: go to node 191 if X[:, 344] <= 15.0 else to node 198.\n",
      "          node=191 test node: go to node 192 if X[:, 349] <= 16.5 else to node 195.\n",
      "            node=192 test node: go to node 193 if X[:, 369] <= 95.5 else to node 194.\n",
      "              node=193 leaf node.\n",
      "              node=194 leaf node.\n",
      "            node=195 test node: go to node 196 if X[:, 487] <= 3.5 else to node 197.\n",
      "              node=196 leaf node.\n",
      "              node=197 leaf node.\n",
      "          node=198 test node: go to node 199 if X[:, 99] <= 5.0 else to node 202.\n",
      "            node=199 test node: go to node 200 if X[:, 181] <= 27.0 else to node 201.\n",
      "              node=200 leaf node.\n",
      "              node=201 leaf node.\n",
      "            node=202 test node: go to node 203 if X[:, 297] <= 99.5 else to node 204.\n",
      "              node=203 leaf node.\n",
      "              node=204 leaf node.\n",
      "        node=205 test node: go to node 206 if X[:, 270] <= 0.5 else to node 213.\n",
      "          node=206 test node: go to node 207 if X[:, 514] <= 3.0 else to node 210.\n",
      "            node=207 test node: go to node 208 if X[:, 512] <= 153.5 else to node 209.\n",
      "              node=208 leaf node.\n",
      "              node=209 leaf node.\n",
      "            node=210 test node: go to node 211 if X[:, 651] <= 8.5 else to node 212.\n",
      "              node=211 leaf node.\n",
      "              node=212 leaf node.\n",
      "          node=213 test node: go to node 214 if X[:, 350] <= 240.5 else to node 217.\n",
      "            node=214 test node: go to node 215 if X[:, 569] <= 66.5 else to node 216.\n",
      "              node=215 leaf node.\n",
      "              node=216 leaf node.\n",
      "            node=217 test node: go to node 218 if X[:, 455] <= 66.0 else to node 219.\n",
      "              node=218 leaf node.\n",
      "              node=219 leaf node.\n",
      "      node=220 test node: go to node 221 if X[:, 488] <= 5.5 else to node 236.\n",
      "        node=221 test node: go to node 222 if X[:, 290] <= 4.5 else to node 229.\n",
      "          node=222 test node: go to node 223 if X[:, 323] <= 1.0 else to node 226.\n",
      "            node=223 test node: go to node 224 if X[:, 378] <= 12.5 else to node 225.\n",
      "              node=224 leaf node.\n",
      "              node=225 leaf node.\n",
      "            node=226 test node: go to node 227 if X[:, 485] <= 137.5 else to node 228.\n",
      "              node=227 leaf node.\n",
      "              node=228 leaf node.\n",
      "          node=229 test node: go to node 230 if X[:, 298] <= 1.5 else to node 233.\n",
      "            node=230 test node: go to node 231 if X[:, 267] <= 217.0 else to node 232.\n",
      "              node=231 leaf node.\n",
      "              node=232 leaf node.\n",
      "            node=233 test node: go to node 234 if X[:, 379] <= 1.0 else to node 235.\n",
      "              node=234 leaf node.\n",
      "              node=235 leaf node.\n",
      "        node=236 test node: go to node 237 if X[:, 347] <= 0.5 else to node 244.\n",
      "          node=237 test node: go to node 238 if X[:, 293] <= 7.5 else to node 241.\n",
      "            node=238 test node: go to node 239 if X[:, 373] <= 50.0 else to node 240.\n",
      "              node=239 leaf node.\n",
      "              node=240 leaf node.\n",
      "            node=241 test node: go to node 242 if X[:, 545] <= 249.5 else to node 243.\n",
      "              node=242 leaf node.\n",
      "              node=243 leaf node.\n",
      "          node=244 test node: go to node 245 if X[:, 434] <= 44.5 else to node 248.\n",
      "            node=245 test node: go to node 246 if X[:, 355] <= 237.5 else to node 247.\n",
      "              node=246 leaf node.\n",
      "              node=247 leaf node.\n",
      "            node=248 test node: go to node 249 if X[:, 429] <= 158.0 else to node 250.\n",
      "              node=249 leaf node.\n",
      "              node=250 leaf node.\n",
      "\n"
     ]
    }
   ],
   "source": [
    "# The tree structure can be traversed to compute various properties such\n",
    "# as the depth of each node and whether or not it is a leaf.\n",
    "node_depth = np.zeros(shape=n_nodes, dtype=np.int64)\n",
    "is_leaves = np.zeros(shape=n_nodes, dtype=bool)\n",
    "stack = [(0, -1)]  # seed is the root node id and its parent depth\n",
    "while len(stack) > 0:\n",
    "    node_id, parent_depth = stack.pop()\n",
    "    node_depth[node_id] = parent_depth + 1\n",
    "\n",
    "    # If we have a test node\n",
    "    if (children_left[node_id] != children_right[node_id]):\n",
    "        stack.append((children_left[node_id], parent_depth + 1))\n",
    "        stack.append((children_right[node_id], parent_depth + 1))\n",
    "    else:\n",
    "        is_leaves[node_id] = True\n",
    "\n",
    "print(\"The binary tree structure has %s nodes and has \"\n",
    "      \"the following tree structure:\"\n",
    "      % n_nodes)\n",
    "for i in range(n_nodes):\n",
    "    if is_leaves[i]:\n",
    "        print(\"%snode=%s leaf node.\" % (node_depth[i] * \"  \", i))\n",
    "    else:\n",
    "        print(\"%snode=%s test node: go to node %s if X[:, %s] <= %s else to \"\n",
    "              \"node %s.\"\n",
    "              % (node_depth[i] * \"  \",\n",
    "                 i,\n",
    "                 children_left[i],\n",
    "                 feature[i],\n",
    "                 threshold[i],\n",
    "                 children_right[i],\n",
    "                 ))\n",
    "print()"
   ]
  },
  {
   "cell_type": "code",
   "execution_count": 248,
   "metadata": {
    "collapsed": false
   },
   "outputs": [],
   "source": [
    "# # First let's retrieve the decision path of each sample. The decision_path\n",
    "# # method allows to retrieve the node indicator functions. A non zero element of\n",
    "# # indicator matrix at the position (i, j) indicates that the sample i goes\n",
    "# # through the node j.\n",
    "\n",
    "# node_indicator = tree_clf.decision_path([X_test[0]])\n",
    "\n",
    "# # Similarly, we can also have the leaves ids reached by each sample.\n",
    "\n",
    "# leave_id = tree_clf.apply([X_test[0]])\n",
    "\n",
    "# # Now, it's possible to get the tests that were used to predict a sample or\n",
    "# # a group of samples. First, let's make it for the sample.\n",
    "\n",
    "# sample_id = 0\n",
    "# node_index = node_indicator.indices[node_indicator.indptr[sample_id]:\n",
    "#                                     node_indicator.indptr[sample_id + 1]]\n",
    "\n",
    "\n",
    "\n",
    "# print('Rules used to predict sample %s: ' % sample_id)\n",
    "# for node_id in node_index:\n",
    "#     if leave_id[sample_id] != node_id:\n",
    "#         continue\n",
    "\n",
    "#     if (X_test[0][feature[node_id]] <= threshold[node_id]):\n",
    "#         threshold_sign = \"<=\"\n",
    "#     else:\n",
    "#         threshold_sign = \">\"\n",
    "\n",
    "#     print(\"decision id node %s : (X_test[%s, %s] (= %s) %s %s)\"\n",
    "#           % (node_id,\n",
    "#              sample_id,\n",
    "#              feature[node_id],\n",
    "#              X_test[0][feature[node_id]],\n",
    "#              threshold_sign,\n",
    "#              threshold[node_id]))\n",
    "\n",
    "# # For a group of samples, we have the following common node.\n",
    "# sample_ids = [0, 1]\n",
    "# common_nodes = (node_indicator.toarray()[sample_ids].sum(axis=0) ==\n",
    "#                 len(sample_ids))\n",
    "\n",
    "# common_node_id = np.arange(n_nodes)[common_nodes]\n",
    "\n",
    "# print(\"\\nThe following samples %s share the node %s in the tree\"\n",
    "#       % (sample_ids, common_node_id))\n",
    "# print(\"It is %s %% of all nodes.\" % (100 * len(common_node_id) / n_nodes,))"
   ]
  },
  {
   "cell_type": "code",
   "execution_count": 249,
   "metadata": {
    "collapsed": false
   },
   "outputs": [
    {
     "data": {
      "text/plain": [
       "1"
      ]
     },
     "execution_count": 249,
     "metadata": {},
     "output_type": "execute_result"
    }
   ],
   "source": [
    "1"
   ]
  },
  {
   "cell_type": "code",
   "execution_count": 139,
   "metadata": {
    "collapsed": false
   },
   "outputs": [
    {
     "data": {
      "text/plain": [
       "array([[ 0.26411076,  0.00745474,  0.10223642,  0.15228967,  0.00319489,\n",
       "         0.2172524 ,  0.10117146,  0.11821086,  0.02342918,  0.01064963]])"
      ]
     },
     "execution_count": 139,
     "metadata": {},
     "output_type": "execute_result"
    }
   ],
   "source": [
    "/(tree_clf.tree_.value[3].sum())"
   ]
  },
  {
   "cell_type": "code",
   "execution_count": null,
   "metadata": {
    "collapsed": true
   },
   "outputs": [],
   "source": []
  }
 ],
 "metadata": {
  "kernelspec": {
   "display_name": "Python 3",
   "language": "python",
   "name": "python3"
  },
  "language_info": {
   "codemirror_mode": {
    "name": "ipython",
    "version": 3
   },
   "file_extension": ".py",
   "mimetype": "text/x-python",
   "name": "python",
   "nbconvert_exporter": "python",
   "pygments_lexer": "ipython3",
   "version": "3.6.0b3"
  }
 },
 "nbformat": 4,
 "nbformat_minor": 2
}
