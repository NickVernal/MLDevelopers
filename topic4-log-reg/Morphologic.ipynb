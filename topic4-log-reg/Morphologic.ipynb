{
 "cells": [
  {
   "cell_type": "code",
   "execution_count": 1,
   "metadata": {
    "collapsed": true,
    "deletable": true,
    "editable": true
   },
   "outputs": [],
   "source": [
    "# pip install pymystem3\n",
    "import pymystem3\n",
    "mystem = pymystem3.Mystem()"
   ]
  },
  {
   "cell_type": "code",
   "execution_count": 2,
   "metadata": {
    "collapsed": false,
    "deletable": true,
    "editable": true
   },
   "outputs": [
    {
     "data": {
      "text/plain": [
       "[{'analysis': [{'gr': 'S,жен,од=им,ед', 'lex': 'мама'}], 'text': 'мама'},\n",
       " {'text': ' '},\n",
       " {'analysis': [{'gr': 'S,имя,жен,од=(род,ед|им,мн)', 'lex': 'маша'}],\n",
       "  'text': 'Маши'},\n",
       " {'text': ' '},\n",
       " {'analysis': [{'gr': 'S,сред,неод=(вин,мн|род,ед|им,мн)', 'lex': 'мыло'}],\n",
       "  'text': 'мыла'},\n",
       " {'text': ' '},\n",
       " {'analysis': [{'gr': 'S,муж,од=(вин,мн|род,мн)', 'lex': 'гусь'}],\n",
       "  'text': 'гусей'},\n",
       " {'text': ' '},\n",
       " {'analysis': [{'gr': 'PR=', 'lex': 'на'}], 'text': 'на'},\n",
       " {'text': ' '},\n",
       " {'analysis': [{'gr': 'S,жен,неод=(пр,ед|дат,ед)', 'lex': 'рама'}],\n",
       "  'text': 'раме'},\n",
       " {'text': '\\n'}]"
      ]
     },
     "execution_count": 2,
     "metadata": {},
     "output_type": "execute_result"
    }
   ],
   "source": [
    "mystem.analyze('мама Маши мыла гусей на раме')"
   ]
  },
  {
   "cell_type": "code",
   "execution_count": 3,
   "metadata": {
    "collapsed": false,
    "deletable": true,
    "editable": true
   },
   "outputs": [],
   "source": [
    "# pip install pymorphy2\n",
    "# либо\n",
    "# pip install https://github.com/kmike/pymorphy2/archive/master.zip\n",
    "import pymorphy2\n",
    "morph = pymorphy2.MorphAnalyzer()"
   ]
  },
  {
   "cell_type": "code",
   "execution_count": 4,
   "metadata": {
    "collapsed": false,
    "deletable": true,
    "editable": true
   },
   "outputs": [
    {
     "data": {
      "text/plain": [
       "[Parse(word='мыла', tag=OpencorporaTag('NOUN,inan,neut sing,gent'), normal_form='мыло', score=0.333333, methods_stack=((DictionaryAnalyzer(), 'мыла', 54, 1),)),\n",
       " Parse(word='мыла', tag=OpencorporaTag('VERB,impf,tran femn,sing,past,indc'), normal_form='мыть', score=0.333333, methods_stack=((DictionaryAnalyzer(), 'мыла', 2030, 8),)),\n",
       " Parse(word='мыла', tag=OpencorporaTag('NOUN,inan,neut plur,nomn'), normal_form='мыло', score=0.166666, methods_stack=((DictionaryAnalyzer(), 'мыла', 54, 6),)),\n",
       " Parse(word='мыла', tag=OpencorporaTag('NOUN,inan,neut plur,accs'), normal_form='мыло', score=0.166666, methods_stack=((DictionaryAnalyzer(), 'мыла', 54, 9),))]"
      ]
     },
     "execution_count": 4,
     "metadata": {},
     "output_type": "execute_result"
    }
   ],
   "source": [
    "morph.parse('мыла')"
   ]
  },
  {
   "cell_type": "code",
   "execution_count": 5,
   "metadata": {
    "collapsed": true,
    "deletable": true,
    "editable": true
   },
   "outputs": [],
   "source": [
    "word = morph.parse('мыла')[0]"
   ]
  },
  {
   "cell_type": "code",
   "execution_count": 6,
   "metadata": {
    "collapsed": false,
    "deletable": true,
    "editable": true
   },
   "outputs": [
    {
     "data": {
      "text/plain": [
       "OpencorporaTag('NOUN,inan,neut sing,gent')"
      ]
     },
     "execution_count": 6,
     "metadata": {},
     "output_type": "execute_result"
    }
   ],
   "source": [
    "word.tag"
   ]
  },
  {
   "cell_type": "code",
   "execution_count": 7,
   "metadata": {
    "collapsed": false,
    "deletable": true,
    "editable": true
   },
   "outputs": [
    {
     "name": "stdout",
     "output_type": "stream",
     "text": [
      "NOUN\n",
      "мыло\n"
     ]
    }
   ],
   "source": [
    "print(word.tag.POS)      # Часть речи\n",
    "print(word.normal_form)  # Нормальная форма"
   ]
  },
  {
   "cell_type": "code",
   "execution_count": 8,
   "metadata": {
    "collapsed": false,
    "deletable": true,
    "editable": true
   },
   "outputs": [
    {
     "name": "stdout",
     "output_type": "stream",
     "text": [
      "neut\n",
      "gent\n",
      "sing\n"
     ]
    }
   ],
   "source": [
    "print(word.tag.gender)  # Пол\n",
    "print(word.tag.case)    # Падеж\n",
    "print(word.tag.number)  # Число"
   ]
  },
  {
   "cell_type": "code",
   "execution_count": 9,
   "metadata": {
    "collapsed": true,
    "deletable": true,
    "editable": true
   },
   "outputs": [],
   "source": [
    "import re\n",
    "import functools"
   ]
  },
  {
   "cell_type": "code",
   "execution_count": 10,
   "metadata": {
    "collapsed": true
   },
   "outputs": [],
   "source": [
    "def clear_string(word):\n",
    "    return re.sub(r'[^\\w\\s]', '', word)"
   ]
  },
  {
   "cell_type": "code",
   "execution_count": 11,
   "metadata": {
    "collapsed": true
   },
   "outputs": [],
   "source": [
    "def string_to_trigramm(string):\n",
    "    for item in string.split():\n",
    "        for i in range(len(item)-2):\n",
    "            yield item[i:i+3]"
   ]
  },
  {
   "cell_type": "code",
   "execution_count": 14,
   "metadata": {
    "collapsed": true
   },
   "outputs": [],
   "source": [
    "def map_to_normal_form(string):\n",
    "    for item in string.split():\n",
    "        yield morph.parse(item)[0].normal_form"
   ]
  },
  {
   "cell_type": "code",
   "execution_count": 16,
   "metadata": {
    "collapsed": true
   },
   "outputs": [],
   "source": [
    "def map_to_POS(string):\n",
    "    for item in string.split():\n",
    "        yield morph.parse(item)[0].tag.POS"
   ]
  },
  {
   "cell_type": "code",
   "execution_count": 26,
   "metadata": {
    "collapsed": false
   },
   "outputs": [
    {
     "name": "stdout",
     "output_type": "stream",
     "text": [
      "['мама', 'мыло', 'рама']\n",
      "мама мыло рама\n"
     ]
    }
   ],
   "source": [
    "print(list(map_to_normal_form('мама мыла раму')))\n",
    "print(' '.join(map_to_normal_form('мама мыла раму')))"
   ]
  },
  {
   "cell_type": "code",
   "execution_count": 27,
   "metadata": {
    "collapsed": false
   },
   "outputs": [
    {
     "name": "stdout",
     "output_type": "stream",
     "text": [
      "['NOUN', 'NOUN', 'NOUN', 'ADJF', 'NOUN', 'ADVB', 'NUMR', 'NOUN', 'PREP', 'ADJF', 'CONJ', 'NOUN', 'VERB', 'ADVB']\n",
      "NOUN NOUN NOUN ADJF NOUN ADVB NUMR NOUN PREP ADJF CONJ NOUN VERB ADVB\n"
     ]
    }
   ],
   "source": [
    "print(list(map_to_POS('мама мыла раму вкусной водкой уже четыре часа после того как гости ушли домой')))\n",
    "print(' '.join(map_to_POS('мама мыла раму вкусной водкой уже четыре часа после того как гости ушли домой')))"
   ]
  },
  {
   "cell_type": "code",
   "execution_count": 28,
   "metadata": {
    "collapsed": true
   },
   "outputs": [],
   "source": [
    "from sklearn.feature_extraction.text import TfidfVectorizer"
   ]
  },
  {
   "cell_type": "code",
   "execution_count": 29,
   "metadata": {
    "collapsed": true
   },
   "outputs": [],
   "source": [
    "s = 'мама мыла раму вкусной водкой уже четыре часа после того как гости ушли домой'"
   ]
  },
  {
   "cell_type": "code",
   "execution_count": 49,
   "metadata": {
    "collapsed": false
   },
   "outputs": [],
   "source": [
    "X = [\n",
    "    s+' '+' '.join(map_to_POS(s))+' '+' '.join(map_to_normal_form(s))\n",
    "]"
   ]
  },
  {
   "cell_type": "code",
   "execution_count": 50,
   "metadata": {
    "collapsed": false
   },
   "outputs": [],
   "source": [
    "X_text = X"
   ]
  },
  {
   "cell_type": "code",
   "execution_count": 51,
   "metadata": {
    "collapsed": true
   },
   "outputs": [],
   "source": [
    "X_letter_trigramm = [\n",
    "    ' '.join(string_to_trigramm(s))\n",
    "]"
   ]
  },
  {
   "cell_type": "code",
   "execution_count": 52,
   "metadata": {
    "collapsed": false
   },
   "outputs": [
    {
     "data": {
      "text/plain": [
       "['мам ама мыл ыла рам аму вку кус усн сно ной вод одк дко кой уже чет еты тыр ыре час аса пос осл сле тог ого как гос ост сти ушл шли дом омо мой']"
      ]
     },
     "execution_count": 52,
     "metadata": {},
     "output_type": "execute_result"
    }
   ],
   "source": [
    "X_letter_trigramm"
   ]
  },
  {
   "cell_type": "code",
   "execution_count": 63,
   "metadata": {
    "collapsed": true
   },
   "outputs": [],
   "source": [
    "vec1 = TfidfVectorizer()\n",
    "vec2 = TfidfVectorizer()"
   ]
  },
  {
   "cell_type": "code",
   "execution_count": 56,
   "metadata": {
    "collapsed": false
   },
   "outputs": [],
   "source": [
    "_X1 = vec.fit_transform(X_letter_trigramm)"
   ]
  },
  {
   "cell_type": "code",
   "execution_count": null,
   "metadata": {
    "collapsed": true
   },
   "outputs": [],
   "source": [
    "vec.fit()\n",
    "X2 = vec.transform(X)"
   ]
  },
  {
   "cell_type": "code",
   "execution_count": 58,
   "metadata": {
    "collapsed": false
   },
   "outputs": [
    {
     "data": {
      "text/plain": [
       "array([[ 0.16666667,  0.16666667,  0.16666667,  0.16666667,  0.16666667,\n",
       "         0.16666667,  0.16666667,  0.16666667,  0.16666667,  0.16666667,\n",
       "         0.16666667,  0.16666667,  0.16666667,  0.16666667,  0.16666667,\n",
       "         0.16666667,  0.16666667,  0.16666667,  0.16666667,  0.16666667,\n",
       "         0.16666667,  0.16666667,  0.16666667,  0.16666667,  0.16666667,\n",
       "         0.16666667,  0.16666667,  0.16666667,  0.16666667,  0.16666667,\n",
       "         0.16666667,  0.16666667,  0.16666667,  0.16666667,  0.16666667,\n",
       "         0.16666667]])"
      ]
     },
     "execution_count": 58,
     "metadata": {},
     "output_type": "execute_result"
    }
   ],
   "source": [
    "_X1.toarray()"
   ]
  },
  {
   "cell_type": "code",
   "execution_count": 59,
   "metadata": {
    "collapsed": false
   },
   "outputs": [
    {
     "data": {
      "text/plain": [
       "<1x62 sparse matrix of type '<class 'numpy.float64'>'\n",
       "\twith 62 stored elements in Compressed Sparse Row format>"
      ]
     },
     "execution_count": 59,
     "metadata": {},
     "output_type": "execute_result"
    }
   ],
   "source": [
    "_X"
   ]
  },
  {
   "cell_type": "code",
   "execution_count": 60,
   "metadata": {
    "collapsed": false
   },
   "outputs": [
    {
     "data": {
      "text/plain": [
       "<1x36 sparse matrix of type '<class 'numpy.float64'>'\n",
       "\twith 36 stored elements in Compressed Sparse Row format>"
      ]
     },
     "execution_count": 60,
     "metadata": {},
     "output_type": "execute_result"
    }
   ],
   "source": [
    "_X1"
   ]
  },
  {
   "cell_type": "code",
   "execution_count": 61,
   "metadata": {
    "collapsed": true
   },
   "outputs": [],
   "source": [
    "import scipy"
   ]
  },
  {
   "cell_type": "code",
   "execution_count": 62,
   "metadata": {
    "collapsed": false
   },
   "outputs": [
    {
     "data": {
      "text/plain": [
       "<1x98 sparse matrix of type '<class 'numpy.float64'>'\n",
       "\twith 98 stored elements in COOrdinate format>"
      ]
     },
     "execution_count": 62,
     "metadata": {},
     "output_type": "execute_result"
    }
   ],
   "source": [
    "scipy.sparse.hstack([_X, _X1])"
   ]
  },
  {
   "cell_type": "code",
   "execution_count": null,
   "metadata": {
    "collapsed": true
   },
   "outputs": [],
   "source": []
  }
 ],
 "metadata": {
  "kernelspec": {
   "display_name": "Python 3",
   "language": "python",
   "name": "python3"
  },
  "language_info": {
   "codemirror_mode": {
    "name": "ipython",
    "version": 3
   },
   "file_extension": ".py",
   "mimetype": "text/x-python",
   "name": "python",
   "nbconvert_exporter": "python",
   "pygments_lexer": "ipython3",
   "version": "3.6.0b3"
  }
 },
 "nbformat": 4,
 "nbformat_minor": 2
}
